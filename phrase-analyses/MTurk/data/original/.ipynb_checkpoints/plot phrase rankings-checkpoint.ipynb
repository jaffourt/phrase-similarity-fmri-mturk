{
 "cells": [
  {
   "cell_type": "code",
   "execution_count": 1,
   "metadata": {},
   "outputs": [],
   "source": [
    "import os\n",
    "import matplotlib.pyplot as plt\n",
    "import numpy as np"
   ]
  },
  {
   "cell_type": "code",
   "execution_count": 2,
   "metadata": {},
   "outputs": [],
   "source": [
    "#get the subj data\n",
    "subjs = list()\n",
    "for file in os.listdir(os.getcwd()):\n",
    "    if len(file) == 20:\n",
    "        file_contents = list()\n",
    "        with open(file,'r') as f:\n",
    "            for line in f:\n",
    "                line = line.strip()\n",
    "                line = line.split(',')\n",
    "                file_contents.append(line)\n",
    "        subjs.append(file_contents)"
   ]
  },
  {
   "cell_type": "code",
   "execution_count": 3,
   "metadata": {},
   "outputs": [],
   "source": [
    "M_total = list()\n",
    "P_total = list()\n",
    "N_total = list()\n",
    "A_total = list()\n",
    "individs = [[0,0,0,0],[0,0,0,0],[0,0,0,0]]\n",
    "iteration = 0\n",
    "# calculate the ranking\n",
    "for subj in subjs:\n",
    "    M = [0,0]\n",
    "    N = [0,0]\n",
    "    P = [0,0]\n",
    "    A = [0,0]\n",
    "    for q in subj:  \n",
    "        if q[0].isdigit():\n",
    "            q = map(int, q)\n",
    "            if q[1] == 2:\n",
    "                M[0]+=q[2]\n",
    "                M[1]+=1\n",
    "                M_total.append(q[2])\n",
    "            elif q[1] == 3:\n",
    "                N[0]+=q[2]\n",
    "                N[1]+=1\n",
    "                N_total.append(q[2])\n",
    "            elif q[1] == 4:\n",
    "                P[0]+=q[2]\n",
    "                P[1]+=1\n",
    "                P_total.append(q[2])\n",
    "            elif q[1] == 5:\n",
    "                A[0]+=q[2]\n",
    "                A[1]+=1\n",
    "                A_total.append(q[2])\n",
    "    individs[iteration][0] = float(N[0])/N[1]\n",
    "    individs[iteration][1] = float(A[0])/A[1]\n",
    "    individs[iteration][2] = float(P[0])/P[1]\n",
    "    individs[iteration][3] = float(M[0])/M[1]\n",
    "    iteration +=1"
   ]
  },
  {
   "cell_type": "code",
   "execution_count": 11,
   "metadata": {},
   "outputs": [],
   "source": [
    "#calculate averages\n",
    "#and standard error of the mean\n",
    "avg = [0,0,0,0]\n",
    "errors = [0,0,0,0]\n",
    "avg[0] = np.mean(N_total)\n",
    "errors[0] = np.std(N_total)/np.sqrt(len(N_total))\n",
    "avg[1] = np.mean(A_total)\n",
    "errors[1] = np.std(A_total)/np.sqrt(len(A_total))\n",
    "avg[2] = np.mean(P_total)\n",
    "errors[2] = np.std(P_total)/np.sqrt(len(P_total))\n",
    "avg[3] = np.mean(M_total)\n",
    "errors[3] = np.std(M_total)/np.sqrt(len(M_total))\n"
   ]
  },
  {
   "cell_type": "code",
   "execution_count": 21,
   "metadata": {},
   "outputs": [
    {
     "name": "stdout",
     "output_type": "stream",
     "text": [
      "[0.00039962381460762473, 2.487412175887238e-05, 0.0005933100293874857, 0.6502949669809435, 0.6181842614459626, 0.1426183337208967]\n"
     ]
    }
   ],
   "source": [
    "from scipy import stats\n",
    "#p test stuff, calculate the difference between populations\n",
    "diff_N_A = [i - j for i, j in zip(N_total, A_total)]\n",
    "diff_N_P = [i - j for i, j in zip(N_total, P_total)]\n",
    "diff_N_M = [i - j for i, j in zip(N_total, M_total)]\n",
    "diff_M_A = [i - j for i, j in zip(M_total, A_total)]\n",
    "diff_M_P = [i - j for i, j in zip(M_total, P_total)]\n",
    "diff_P_A = [i - j for i, j in zip(P_total, A_total)]\n",
    "\n",
    "#mean difference\n",
    "d_bar_N_A = np.mean(diff_N_A)\n",
    "d_bar_N_P = np.mean(diff_N_P)\n",
    "d_bar_N_M = np.mean(diff_N_M)\n",
    "d_bar_M_A = np.mean(diff_M_A)\n",
    "d_bar_M_P = np.mean(diff_M_P)\n",
    "d_bar_P_A = np.mean(diff_P_A)\n",
    "\n",
    "#standard error of mean difference\n",
    "d_error_N_A = np.std(diff_N_A)/np.sqrt(len(diff_N_A))\n",
    "d_error_N_P = np.std(diff_N_P)/np.sqrt(len(diff_N_P))\n",
    "d_error_N_M = np.std(diff_N_M)/np.sqrt(len(diff_N_M))\n",
    "d_error_M_A = np.std(diff_M_A)/np.sqrt(len(diff_M_A))\n",
    "d_error_M_P = np.std(diff_M_P)/np.sqrt(len(diff_M_P))\n",
    "d_error_P_A = np.std(diff_P_A)/np.sqrt(len(diff_P_A))\n",
    "\n",
    "T=list()\n",
    "T.append(d_bar_N_A/d_error_N_A) \n",
    "T.append(d_bar_N_P/d_error_N_P)\n",
    "T.append(d_bar_N_M/d_error_N_M)\n",
    "T.append(d_bar_M_A/d_error_M_A)\n",
    "T.append(d_bar_M_P/d_error_M_P)\n",
    "T.append(d_bar_P_A/d_error_P_A)\n",
    "\n",
    "pval = list()\n",
    "for i in T:\n",
    "    pval.append(stats.t.sf(np.abs(i), len(diff_M_A)-1)*2)\n",
    "\n",
    "print pval"
   ]
  },
  {
   "cell_type": "code",
   "execution_count": 22,
   "metadata": {},
   "outputs": [
    {
     "data": {
      "image/png": "[encoded data removed]",
      "text/plain": [
       "<Figure size 640x480 with 1 Axes>"
      ]
     },
     "metadata": {},
     "output_type": "display_data"
    }
   ],
   "source": [
    "plt.rcdefaults()\n",
    "fig, ax = plt.subplots()\n",
    "\n",
    "phrase = ('noun change','adj change','prep change', 'meaning preserve')\n",
    "y_pos = np.arange(len(phrase))\n",
    "ax.barh(y_pos, avg, xerr=errors, align='center')\n",
    "ax.set_yticks(y_pos)\n",
    "ax.set_yticklabels(phrase)\n",
    "ax.invert_yaxis()  \n",
    "ax.set_xlabel('Average rank')\n",
    "ax.set_xticks([0,1,2,3,4])\n",
    "\n",
    "#add each individ to the plot\n",
    "for k in individs:\n",
    "    plt.scatter(k,[0,1,2,3],s=50,zorder=2)\n",
    "    \n",
    "plt.show()"
   ]
  },
  {
   "cell_type": "code",
   "execution_count": null,
   "metadata": {},
   "outputs": [],
   "source": []
  }
 ],
 "metadata": {
  "kernelspec": {
   "display_name": "Python 2",
   "language": "python",
   "name": "python2"
  },
  "language_info": {
   "codemirror_mode": {
    "name": "ipython",
    "version": 2
   },
   "file_extension": ".py",
   "mimetype": "text/x-python",
   "name": "python",
   "nbconvert_exporter": "python",
   "pygments_lexer": "ipython2",
   "version": "2.7.16"
  }
 },
 "nbformat": 4,
 "nbformat_minor": 2
}
