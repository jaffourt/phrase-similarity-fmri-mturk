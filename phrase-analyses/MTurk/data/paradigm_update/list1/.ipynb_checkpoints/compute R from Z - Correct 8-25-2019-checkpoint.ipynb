{
 "cells": [
  {
   "cell_type": "code",
   "execution_count": 6,
   "metadata": {},
   "outputs": [],
   "source": [
    "import os\n",
    "import numpy as np\n",
    "from scipy import stats"
   ]
  },
  {
   "cell_type": "code",
   "execution_count": 7,
   "metadata": {},
   "outputs": [],
   "source": [
    "subjects = list()\n",
    "r_values = list()\n",
    "names = list()\n",
    "for file in os.listdir(os.getcwd()):\n",
    "    contents = list()\n",
    "    if len(file)==20:\n",
    "        names.append(file)\n",
    "        with open(file, 'r') as f:\n",
    "            for line in f:\n",
    "                line=line.strip()\n",
    "                line=line.split(',')\n",
    "                if line[0].isdigit():\n",
    "                    line = map(int, line)\n",
    "                    line[1]=line[1]-1\n",
    "                    contents.append(line[2])\n",
    "        subjects.append(contents)"
   ]
  },
  {
   "cell_type": "code",
   "execution_count": 8,
   "metadata": {},
   "outputs": [
    {
     "name": "stdout",
     "output_type": "stream",
     "text": [
      "0.31611450024004384\n",
      "0.7954206774622624\n",
      "0.8711427692631221\n",
      "0.7544010082557225\n",
      "0.5637699428410415\n",
      "0.8261280788213227\n",
      "0.5110981033255907\n",
      "0.847287495069511\n",
      "0.6656367553047219\n",
      "\n",
      "\n",
      "Bzwrwg5I7xhkK40SBzHc\n",
      "o5wRm0KHD4OxttQkAt2m\n",
      "waUTeX1fMNxtIOmmisuf\n",
      "Z1p3oLDJmXx12PJdcTda\n",
      "pherqwyHzXjUqcqDoGgF\n",
      "DV164PgW5kuPEodsqJdY\n",
      "c5WPG4hf543dBe2glSmi\n",
      "io3AbJgY36jj8OJe377C\n",
      "sMZ8us3QZU9atWXHNa3x\n",
      "The mean R value is:  0.6834443700648154\n"
     ]
    }
   ],
   "source": [
    "zscores = list()\n",
    "for s in subjects:\n",
    "    z=stats.zscore(s)\n",
    "    zscores.append(z.tolist())\n",
    "\n",
    "for z in zscores:\n",
    "    temp = list(zscores)\n",
    "    temp.remove(z)\n",
    "    r=np.corrcoef(z, np.mean(temp,axis=0))[1][0]\n",
    "    print r\n",
    "    r_values.append(r)\n",
    "\n",
    "print '\\n'\n",
    "for f in names:\n",
    "    print f\n",
    "print 'The mean R value is: ', np.mean(r_values)"
   ]
  },
  {
   "cell_type": "code",
   "execution_count": null,
   "metadata": {},
   "outputs": [],
   "source": []
  },
  {
   "cell_type": "code",
   "execution_count": null,
   "metadata": {},
   "outputs": [],
   "source": []
  }
 ],
 "metadata": {
  "kernelspec": {
   "display_name": "Python 2",
   "language": "python",
   "name": "python2"
  },
  "language_info": {
   "codemirror_mode": {
    "name": "ipython",
    "version": 2
   },
   "file_extension": ".py",
   "mimetype": "text/x-python",
   "name": "python",
   "nbconvert_exporter": "python",
   "pygments_lexer": "ipython2",
   "version": "2.7.16"
  }
 },
 "nbformat": 4,
 "nbformat_minor": 2
}
