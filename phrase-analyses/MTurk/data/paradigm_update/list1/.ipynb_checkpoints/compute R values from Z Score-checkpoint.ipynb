{
 "cells": [
  {
   "cell_type": "code",
   "execution_count": 1,
   "metadata": {},
   "outputs": [],
   "source": [
    "import os\n",
    "import numpy as np\n",
    "from scipy import stats"
   ]
  },
  {
   "cell_type": "code",
   "execution_count": 2,
   "metadata": {},
   "outputs": [],
   "source": [
    "subjects = list()\n",
    "for file in os.listdir(os.getcwd()):\n",
    "    contents = list()\n",
    "    if len(file)==20:\n",
    "        with open(file, 'r') as f:\n",
    "            for line in f:\n",
    "                line=line.strip()\n",
    "                line=line.split(',')\n",
    "                if line[0].isdigit():\n",
    "                    line = map(int, line)\n",
    "                    line[1]=line[1]-1\n",
    "                    contents.append(line[2])\n",
    "        subjects.append(contents)"
   ]
  },
  {
   "cell_type": "code",
   "execution_count": 3,
   "metadata": {},
   "outputs": [],
   "source": [
    "zscore = stats.zscore(subjects)\n",
    "zscore = zscore.tolist()"
   ]
  },
  {
   "cell_type": "code",
   "execution_count": 5,
   "metadata": {},
   "outputs": [
    {
     "name": "stdout",
     "output_type": "stream",
     "text": [
      "[[1.         0.28820583]\n",
      " [0.28820583 1.        ]]\n",
      "[[1.         0.78263809]\n",
      " [0.78263809 1.        ]]\n",
      "[[1.        0.8796919]\n",
      " [0.8796919 1.       ]]\n",
      "[[1.        0.7300798]\n",
      " [0.7300798 1.       ]]\n",
      "[[1.        0.5811773]\n",
      " [0.5811773 1.       ]]\n",
      "[[1.         0.80342676]\n",
      " [0.80342676 1.        ]]\n",
      "[[1.        0.5094847]\n",
      " [0.5094847 1.       ]]\n",
      "[[1.         0.84074245]\n",
      " [0.84074245 1.        ]]\n",
      "[[1.        0.0482355]\n",
      " [0.0482355 1.       ]]\n",
      "[[ 1.         -0.16516566]\n",
      " [-0.16516566  1.        ]]\n",
      "[[ 1.         -0.65973086]\n",
      " [-0.65973086  1.        ]]\n",
      "[[1.       0.625143]\n",
      " [0.625143 1.      ]]\n"
     ]
    }
   ],
   "source": [
    "for subj in subjects:\n",
    "    pop = list(subjects)\n",
    "    pop.remove(subj)\n",
    "    avg = np.mean(pop, axis=0)\n",
    "    print np.corrcoef(subj,avg)"
   ]
  },
  {
   "cell_type": "code",
   "execution_count": 4,
   "metadata": {},
   "outputs": [
    {
     "name": "stdout",
     "output_type": "stream",
     "text": [
      "[[ 1. -1.]\n",
      " [-1.  1.]]\n",
      "[[ 1. -1.]\n",
      " [-1.  1.]]\n",
      "[[ 1. -1.]\n",
      " [-1.  1.]]\n",
      "[[ 1. -1.]\n",
      " [-1.  1.]]\n",
      "[[ 1. -1.]\n",
      " [-1.  1.]]\n",
      "[[ 1. -1.]\n",
      " [-1.  1.]]\n",
      "[[ 1. -1.]\n",
      " [-1.  1.]]\n",
      "[[ 1. -1.]\n",
      " [-1.  1.]]\n",
      "[[ 1. -1.]\n",
      " [-1.  1.]]\n",
      "[[ 1. -1.]\n",
      " [-1.  1.]]\n",
      "[[ 1. -1.]\n",
      " [-1.  1.]]\n",
      "[[ 1. -1.]\n",
      " [-1.  1.]]\n"
     ]
    }
   ],
   "source": [
    "for subj in zscore:\n",
    "    pop = list(zscore)\n",
    "    pop.remove(subj)\n",
    "    avg = np.mean(pop, axis=0)\n",
    "    print np.corrcoef(subj,avg)"
   ]
  },
  {
   "cell_type": "code",
   "execution_count": null,
   "metadata": {},
   "outputs": [],
   "source": []
  }
 ],
 "metadata": {
  "kernelspec": {
   "display_name": "Python 2",
   "language": "python",
   "name": "python2"
  },
  "language_info": {
   "codemirror_mode": {
    "name": "ipython",
    "version": 2
   },
   "file_extension": ".py",
   "mimetype": "text/x-python",
   "name": "python",
   "nbconvert_exporter": "python",
   "pygments_lexer": "ipython2",
   "version": "2.7.16"
  }
 },
 "nbformat": 4,
 "nbformat_minor": 2
}
