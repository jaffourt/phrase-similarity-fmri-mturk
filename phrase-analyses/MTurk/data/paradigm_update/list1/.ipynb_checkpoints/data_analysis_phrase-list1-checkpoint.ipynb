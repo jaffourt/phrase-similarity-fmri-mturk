{
 "cells": [
  {
   "cell_type": "code",
   "execution_count": 1,
   "metadata": {},
   "outputs": [],
   "source": [
    "import os\n",
    "import matplotlib.pyplot as plt\n",
    "import numpy as np"
   ]
  },
  {
   "cell_type": "code",
   "execution_count": 2,
   "metadata": {},
   "outputs": [],
   "source": [
    "#get the 2019 data\n",
    "subjs_2019 = list()\n",
    "for file in os.listdir(os.getcwd()):\n",
    "    if len(file) == 20:\n",
    "        file_contents = list()\n",
    "        with open(file,'r') as f:\n",
    "            for line in f:\n",
    "                line = line.strip()\n",
    "                line = line.split(',')\n",
    "                if not line[2] == 'ranking':\n",
    "                    file_contents.append(line)\n",
    "        subjs_2019.append(file_contents)"
   ]
  },
  {
   "cell_type": "code",
   "execution_count": 3,
   "metadata": {},
   "outputs": [],
   "source": [
    "#pool the 2019 data\n",
    "avg_2019 = [[0]*4 for _ in range(1,33)]\n",
    "for subj in subjs_2019:\n",
    "    for db in subj:\n",
    "        avg_2019[int(db[0])-1][int(db[1])-2] += int(db[2])"
   ]
  },
  {
   "cell_type": "code",
   "execution_count": 4,
   "metadata": {},
   "outputs": [],
   "source": [
    "# #calculate averages based on preknown values (e.g., 50, 25)\n",
    "# for j,k in enumerate(avg_2019):\n",
    "#     for l,m in enumerate(k):\n",
    "#         avg_2019[j][l] = float(m)/50\n",
    "        \n",
    "# for j,k in enumerate(avg_original):\n",
    "#     for l,m in enumerate(k):\n",
    "#         avg_original[j][l] = float(m)/25\n",
    "        \n",
    "#chaotic subplot, but useful for Ev <3\n",
    "# fig, ax = plt.subplots(nrows=5, ncols=6, figsize=(20,20))\n",
    "# i = -1;\n",
    "# for row in ax:\n",
    "#     for col in row:\n",
    "#         i = i + 1\n",
    "#         col.plot(avg_original[i],[1,2,3,4])\n",
    "#         col.plot(avg_2019[i], [1,2,3,4])\n",
    "#         col.set_title('Item: ' + str(i+1))\n",
    "#         col.set_xlim([1,4])\n",
    "#         col.set_ylim([1,4])\n",
    "#         labels = [item.get_text() for item in col.get_xticklabels()]\n",
    "#         labels[0] = 'M'\n",
    "#         labels[1] = 'N'\n",
    "#         labels[2] = 'P'\n",
    "#         labels[3] = 'A'\n",
    "#         col.set_yticks([1,2,3,4])\n",
    "#         col.set_yticklabels(labels)\n",
    "#         col.set_xticks([1,2,3,4])\n",
    "#         col.set_xlabel('Average rank')\n",
    "# plt.legend(['Original', '2019'])  "
   ]
  },
  {
   "cell_type": "code",
   "execution_count": 5,
   "metadata": {},
   "outputs": [],
   "source": [
    "# calculate the correlation\n",
    "# BE CAREFUL with logic here, it's easy to get confused and do this incorrectly:\n",
    "# you measure the correlation of n=1 for each set (120) \n",
    "# by comparing it to the averages of n=49 for each set (120)\n",
    "R_values = list()\n",
    "for subj in subjs_2019:  \n",
    "    #subj is 120 rankings (4 per 30 base)\n",
    "    #subj[0:119][0] are the bases\n",
    "    #subj[0:119][1] are the transformations\n",
    "    #subj[0:119][2] are the rankings\n",
    "    #copy avg_2019, recalculate the averages without subj\n",
    "    copy_of_avg_2019 = [[0]*4 for _ in range(1,33)]\n",
    "    copy_of_subjs_2019 = list(subjs_2019)\n",
    "    copy_of_subjs_2019.remove(subj)\n",
    "    #re do all the calculations like before\n",
    "    M_total = list()\n",
    "    P_total = list()\n",
    "    N_total = list()\n",
    "    A_total = list()\n",
    "    # calculate the ranking\n",
    "    for copy_subj in copy_of_subjs_2019:\n",
    "        for q in copy_subj:  \n",
    "            if q[0].isdigit():\n",
    "                q = map(int, q)\n",
    "                if q[1] == 2:\n",
    "                    M_total.append(q[2])\n",
    "                elif q[1] == 3:\n",
    "                    N_total.append(q[2])\n",
    "                elif q[1] == 4:\n",
    "                    P_total.append(q[2])\n",
    "                elif q[1] == 5:\n",
    "                    A_total.append(q[2])\n",
    "    #calculate averages\n",
    "    #and standard error of the mean\n",
    "    avg = [0,0,0,0]\n",
    "    avg[0] = np.mean(M_total)\n",
    "    avg[1] = np.mean(N_total)\n",
    "    avg[2] = np.mean(P_total)\n",
    "    avg[3] = np.mean(A_total)\n",
    "    #Done! Now we have the averages of the population w/o the current sample \"subj\"\n",
    "    sum = 0\n",
    "    mag = 0\n",
    "    for i in range(1,33):\n",
    "        prod_sum = 1\n",
    "        prod_mag = 1\n",
    "        for data in subj:\n",
    "            if int(data[0]) == i:\n",
    "                prod_sum *= int(data[2])-avg[int(data[1])-2]\n",
    "                prod_mag *= np.abs(int(data[2])-avg[int(data[1])-2])\n",
    "        sum+=prod_sum\n",
    "        mag+=prod_mag\n",
    "    R_values.append(sum/mag)"
   ]
  },
  {
   "cell_type": "code",
   "execution_count": 6,
   "metadata": {},
   "outputs": [
    {
     "data": {
      "text/plain": [
       "[-0.1127272727272727,\n",
       " -0.7734806629834253,\n",
       " 0.6370250606305576,\n",
       " 0.4481203007518798,\n",
       " 0.25490196078431376,\n",
       " 0.7234342012667138,\n",
       " 0.24551724137931033,\n",
       " 0.18339100346020765,\n",
       " -0.34353995519044067,\n",
       " -0.4289473684210528,\n",
       " -0.15759312320916904,\n",
       " -0.8589540412044371]"
      ]
     },
     "execution_count": 6,
     "metadata": {},
     "output_type": "execute_result"
    }
   ],
   "source": [
    "R_values"
   ]
  },
  {
   "cell_type": "code",
   "execution_count": null,
   "metadata": {},
   "outputs": [],
   "source": []
  }
 ],
 "metadata": {
  "kernelspec": {
   "display_name": "Python 2",
   "language": "python",
   "name": "python2"
  },
  "language_info": {
   "codemirror_mode": {
    "name": "ipython",
    "version": 2
   },
   "file_extension": ".py",
   "mimetype": "text/x-python",
   "name": "python",
   "nbconvert_exporter": "python",
   "pygments_lexer": "ipython2",
   "version": "2.7.16"
  }
 },
 "nbformat": 4,
 "nbformat_minor": 2
}
