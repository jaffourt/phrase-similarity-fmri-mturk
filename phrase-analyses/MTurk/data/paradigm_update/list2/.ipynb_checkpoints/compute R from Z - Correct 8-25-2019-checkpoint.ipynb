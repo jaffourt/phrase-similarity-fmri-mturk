{
 "cells": [
  {
   "cell_type": "code",
   "execution_count": 5,
   "metadata": {},
   "outputs": [],
   "source": [
    "import os\n",
    "import numpy as np\n",
    "from scipy import stats"
   ]
  },
  {
   "cell_type": "code",
   "execution_count": 6,
   "metadata": {},
   "outputs": [],
   "source": [
    "subjects = list()\n",
    "r_values = list()\n",
    "names = list()\n",
    "for file in os.listdir(os.getcwd()):\n",
    "    contents = list()\n",
    "    if len(file)==20:\n",
    "        names.append(file)\n",
    "        with open(file, 'r') as f:\n",
    "            for line in f:\n",
    "                line=line.strip()\n",
    "                line=line.split(',')\n",
    "                if line[0].isdigit():\n",
    "                    line = map(int, line)\n",
    "                    line[1]=line[1]-1\n",
    "                    contents.append(line[2])\n",
    "        subjects.append(contents)"
   ]
  },
  {
   "cell_type": "code",
   "execution_count": 8,
   "metadata": {},
   "outputs": [
    {
     "name": "stdout",
     "output_type": "stream",
     "text": [
      "0.6686986056693722\n",
      "0.1977943567852545\n",
      "0.7118380936451391\n",
      "0.7159248931999387\n",
      "0.10876767343853261\n",
      "0.8192763807175814\n",
      "0.7762035891602496\n",
      "0.19621308189844078\n",
      "0.772377607261567\n",
      "The mean R value is:  0.5518993646417862\n"
     ]
    }
   ],
   "source": [
    "zscores = list()\n",
    "for s in subjects:\n",
    "    z=stats.zscore(s)\n",
    "    zscores.append(z.tolist())\n",
    "\n",
    "for z in zscores:\n",
    "    temp = list(zscores)\n",
    "    temp.remove(z)\n",
    "    r=np.corrcoef(z, np.mean(temp,axis=0))[1][0]\n",
    "    r_values.append(r)\n",
    "    print r\n",
    "\n",
    "print 'The mean R value is: ', np.mean(r_values)"
   ]
  },
  {
   "cell_type": "code",
   "execution_count": null,
   "metadata": {},
   "outputs": [],
   "source": []
  },
  {
   "cell_type": "code",
   "execution_count": null,
   "metadata": {},
   "outputs": [],
   "source": []
  }
 ],
 "metadata": {
  "kernelspec": {
   "display_name": "Python 2",
   "language": "python",
   "name": "python2"
  },
  "language_info": {
   "codemirror_mode": {
    "name": "ipython",
    "version": 2
   },
   "file_extension": ".py",
   "mimetype": "text/x-python",
   "name": "python",
   "nbconvert_exporter": "python",
   "pygments_lexer": "ipython2",
   "version": "2.7.16"
  }
 },
 "nbformat": 4,
 "nbformat_minor": 2
}
