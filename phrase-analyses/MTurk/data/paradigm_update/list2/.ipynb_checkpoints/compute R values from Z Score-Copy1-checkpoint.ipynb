{
 "cells": [
  {
   "cell_type": "code",
   "execution_count": 1,
   "metadata": {},
   "outputs": [],
   "source": [
    "import os\n",
    "import numpy as np\n",
    "import copy"
   ]
  },
  {
   "cell_type": "code",
   "execution_count": 2,
   "metadata": {},
   "outputs": [],
   "source": [
    "subjects = dict()\n",
    "r_values = list()\n",
    "for file in os.listdir(os.getcwd()):\n",
    "    contents = list()\n",
    "    if len(file)==20:\n",
    "        with open(file, 'r') as f:\n",
    "            for line in f:\n",
    "                line=line.strip()\n",
    "                line=line.split(',')\n",
    "                if line[0].isdigit():\n",
    "                    line = map(int, line)\n",
    "                    line[1]=line[1]-1\n",
    "                    contents.append(line[1:3])\n",
    "        subjects[len(subjects)+1]=contents"
   ]
  },
  {
   "cell_type": "code",
   "execution_count": 3,
   "metadata": {},
   "outputs": [],
   "source": [
    "averages = dict()\n",
    "for i in range(1,33):\n",
    "    for j in range(1,5):\n",
    "        averages[\"base\"+str(i)+\"_transform\"+str(j)] = list()"
   ]
  },
  {
   "cell_type": "code",
   "execution_count": 4,
   "metadata": {},
   "outputs": [],
   "source": [
    "subj_z_scores = dict()\n",
    "for i in range(1,len(subjects)+1):\n",
    "    temp = dict(subjects)\n",
    "    subj = temp[i]\n",
    "    subj_dict = copy.deepcopy(averages)\n",
    "    del(temp[i])\n",
    "    temp_average = copy.deepcopy(averages)\n",
    "    for uid in temp:\n",
    "        base = 0\n",
    "        for vals in temp[uid]:\n",
    "            base = base + 1;\n",
    "            (temp_average[\"base\"+str(base)+\"_transform\"+str(vals[0])]).append(vals[1])\n",
    "    #now average and std the 11 subjects\n",
    "    temp_std = copy.deepcopy(temp_average)\n",
    "    for key in temp_average:\n",
    "        if temp_average[key]:\n",
    "            temp_std[key]=np.std(temp_std[key])\n",
    "            temp_average[key]=np.mean(temp_average[key])\n",
    "    base = 0\n",
    "    #format subj data into dictionary\n",
    "    for vals in subj:\n",
    "        base = base + 1;\n",
    "        (subj_dict[\"base\"+str(base)+\"_transform\"+str(vals[0])]).append(vals[1])\n",
    "    #calculate z scores for that subject\n",
    "    z_scores = list()\n",
    "    for key in subj_dict:\n",
    "        if subj_dict[key]:\n",
    "            x = subj_dict[key]\n",
    "            u = temp_average[key]\n",
    "            o = temp_std[key]\n",
    "            z = (x-u)/o\n",
    "            z_scores.append(z[0])\n",
    "    subj_z_scores[i] = z_scores"
   ]
  },
  {
   "cell_type": "code",
   "execution_count": 5,
   "metadata": {},
   "outputs": [],
   "source": [
    "for subj in subj_z_scores:\n",
    "    temp = copy.deepcopy(subj_z_scores)\n",
    "    del(temp[subj])\n",
    "    z_score_averages = dict()\n",
    "    z_average_list = list()\n",
    "    base = 0\n",
    "    for _ in range(0,32):\n",
    "        z_score_averages[base] = list()\n",
    "        base+=1\n",
    "    for uid in temp:\n",
    "        base = 0\n",
    "        for val in temp[uid]:\n",
    "            (z_score_averages[base]).append(val)\n",
    "            base+=1\n",
    "    for base in z_score_averages:\n",
    "        z_average_list.append(np.mean(z_score_averages[base]))\n",
    "    r_values.append(np.corrcoef(z_average_list, subj_z_scores[subj])[0][1])"
   ]
  },
  {
   "cell_type": "code",
   "execution_count": 6,
   "metadata": {},
   "outputs": [
    {
     "name": "stdout",
     "output_type": "stream",
     "text": [
      "-0.9047975613226436\n",
      "-0.869066877753327\n",
      "-0.9469712517648986\n",
      "-0.7874083484722288\n",
      "-0.9413292294502411\n",
      "-0.8556561525121642\n",
      "-0.9522589931001146\n",
      "-0.9603738890651871\n",
      "-0.9641591098485756\n",
      "-0.9000922553094298\n",
      "-0.9092404330740445\n",
      "-0.9720089775761646\n",
      "the mean r-value of this list is: -0.9136135899374183\n"
     ]
    }
   ],
   "source": [
    "for r in r_values:\n",
    "    print r\n",
    "print 'the mean r-value of this list is:', np.mean(r_values)"
   ]
  },
  {
   "cell_type": "code",
   "execution_count": null,
   "metadata": {},
   "outputs": [],
   "source": []
  },
  {
   "cell_type": "code",
   "execution_count": null,
   "metadata": {},
   "outputs": [],
   "source": []
  }
 ],
 "metadata": {
  "kernelspec": {
   "display_name": "Python 2",
   "language": "python",
   "name": "python2"
  },
  "language_info": {
   "codemirror_mode": {
    "name": "ipython",
    "version": 2
   },
   "file_extension": ".py",
   "mimetype": "text/x-python",
   "name": "python",
   "nbconvert_exporter": "python",
   "pygments_lexer": "ipython2",
   "version": "2.7.16"
  }
 },
 "nbformat": 4,
 "nbformat_minor": 2
}
