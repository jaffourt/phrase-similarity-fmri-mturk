{
 "cells": [
  {
   "cell_type": "code",
   "execution_count": 1,
   "metadata": {},
   "outputs": [],
   "source": [
    "import os\n",
    "import numpy as np\n",
    "import copy"
   ]
  },
  {
   "cell_type": "code",
   "execution_count": 2,
   "metadata": {},
   "outputs": [],
   "source": [
    "subjects = dict()\n",
    "for file in os.listdir(os.getcwd()):\n",
    "    contents = list()\n",
    "    if len(file)==20:\n",
    "        with open(file, 'r') as f:\n",
    "            for line in f:\n",
    "                line=line.strip()\n",
    "                line=line.split(',')\n",
    "                if line[0].isdigit():\n",
    "                    line = map(int, line)\n",
    "                    line[1]=line[1]-1\n",
    "                    contents.append(line[1:3])\n",
    "        subjects[len(subjects)+1]=contents"
   ]
  },
  {
   "cell_type": "code",
   "execution_count": 3,
   "metadata": {},
   "outputs": [],
   "source": [
    "averages = dict()\n",
    "for i in range(1,33):\n",
    "    for j in range(1,5):\n",
    "        averages[\"base\"+str(i)+\"_transform\"+str(j)] = list()"
   ]
  },
  {
   "cell_type": "code",
   "execution_count": 4,
   "metadata": {},
   "outputs": [
    {
     "name": "stderr",
     "output_type": "stream",
     "text": [
      "/usr/local/lib/python2.7/site-packages/numpy/core/fromnumeric.py:3118: RuntimeWarning: Mean of empty slice.\n",
      "  out=out, **kwargs)\n",
      "/usr/local/lib/python2.7/site-packages/numpy/core/_methods.py:85: RuntimeWarning: invalid value encountered in double_scalars\n",
      "  ret = ret.dtype.type(ret / rcount)\n"
     ]
    }
   ],
   "source": [
    "subj_z_scores = list()\n",
    "for i in range(1,len(subjects)+1):\n",
    "    temp = dict(subjects)\n",
    "    subject = subjects[i]\n",
    "    temp_average = averages\n",
    "    temp_average = copy.deepcopy(averages)\n",
    "    del temp[i]\n",
    "    for uid in temp:\n",
    "        base = 0\n",
    "        for vals in subjects[uid]:\n",
    "            base = base + 1;\n",
    "            (temp_average[\"base\"+str(base)+\"_transform\"+str(vals[0])]).append(vals[1])\n",
    "    #average this beautiful set\n",
    "    for keys in temp_average:\n",
    "        temp_average[keys] = np.mean(temp_average[keys])\n",
    "    #now structure the subject the same way\n",
    "    subj_dict = dict()\n",
    "    base = 0\n",
    "    for pair in subject:\n",
    "        base = base + 1\n",
    "        subj_dict[\"base\"+str(base)+\"_transform\"+str(pair[0])] = pair[1]\n",
    "    # now find where the subj intersects with the averages \n",
    "    #(they only saw a subset of the base/transformation pairs!)\n",
    "    # and compute a correlation coefficient\n",
    "    averages_set = set(temp_average)\n",
    "    subj_set = set(subj_dict)\n",
    "    keys = list()\n",
    "    for key in averages_set.intersection(subj_set):\n",
    "        #each key corresponds to the intersection remainder\n",
    "        keys.append(key)\n",
    "    avg_vect = [temp_average[x] for x in keys]\n",
    "    mean = np.mean(avg_vect)\n",
    "    std = np.std(avg_vect)\n",
    "    subj_vect = [subj_dict[x] for x in keys]\n",
    "    z_score = list()\n",
    "    for subj in subj_vect:\n",
    "        z_score.append((subj-mean)/std)\n",
    "    subj_z_scores.append(z_score) "
   ]
  },
  {
   "cell_type": "code",
   "execution_count": 5,
   "metadata": {},
   "outputs": [],
   "source": [
    "R_values = list()\n",
    "for i in range(0,len(subj_z_scores)):\n",
    "    #the individual\n",
    "    subject = subj_z_scores[i]\n",
    "    #copy the total population\n",
    "    population = list(subj_z_scores)\n",
    "    #remove the indivdual from population\n",
    "    population.remove(subject)\n",
    "    #calculate population z-score average\n",
    "    z_avg = dict()\n",
    "    pop_avg_vector = list()\n",
    "    for i in range(0,32):\n",
    "        z_avg[i] = list()\n",
    "    for subj in population:\n",
    "        iter = 0\n",
    "        for zscore in subj:\n",
    "            z_avg[iter].append(zscore)\n",
    "            iter +=1\n",
    "    for key in z_avg:\n",
    "        pop_avg_vector.append(np.mean(z_avg[key]))\n",
    "    #we have the population's average\n",
    "    #try to compute correlation of \"subject\" with \"population\"\n",
    "    bleh = np.corrcoef(x=subject,y=pop_avg_vector)\n",
    "    R_values.append(bleh[0][1])"
   ]
  },
  {
   "cell_type": "code",
   "execution_count": 6,
   "metadata": {},
   "outputs": [
    {
     "name": "stdout",
     "output_type": "stream",
     "text": [
      "0.61009499153878\n",
      "0.1489410840320534\n",
      "0.23569857046283726\n",
      "0.6534698596099254\n",
      "0.6477775145928512\n",
      "0.056855556129386434\n",
      "0.18220672136825877\n",
      "0.7774178721916315\n",
      "0.6481781816001356\n",
      "0.2424380122475857\n",
      "0.7176168376045083\n",
      "-0.4645910365011379\n",
      "Mean of R_Values for list: 0.3713420137397347\n"
     ]
    }
   ],
   "source": [
    "for R in R_values:\n",
    "    print R\n",
    "print \"Mean of R_Values for list:\", np.mean(R_values)"
   ]
  },
  {
   "cell_type": "code",
   "execution_count": null,
   "metadata": {},
   "outputs": [],
   "source": []
  }
 ],
 "metadata": {
  "kernelspec": {
   "display_name": "Python 2",
   "language": "python",
   "name": "python2"
  },
  "language_info": {
   "codemirror_mode": {
    "name": "ipython",
    "version": 2
   },
   "file_extension": ".py",
   "mimetype": "text/x-python",
   "name": "python",
   "nbconvert_exporter": "python",
   "pygments_lexer": "ipython2",
   "version": "2.7.16"
  }
 },
 "nbformat": 4,
 "nbformat_minor": 2
}
