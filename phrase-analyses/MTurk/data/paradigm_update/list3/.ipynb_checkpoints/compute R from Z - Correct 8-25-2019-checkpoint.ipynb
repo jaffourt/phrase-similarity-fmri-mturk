{
 "cells": [
  {
   "cell_type": "code",
   "execution_count": 8,
   "metadata": {},
   "outputs": [],
   "source": [
    "import os\n",
    "import numpy as np\n",
    "from scipy import stats"
   ]
  },
  {
   "cell_type": "code",
   "execution_count": 9,
   "metadata": {},
   "outputs": [],
   "source": [
    "subjects = list()\n",
    "r_values = list()\n",
    "files = list()\n",
    "for file in os.listdir(os.getcwd()):\n",
    "    contents = list()\n",
    "    if len(file)==20:\n",
    "        files.append(file)\n",
    "        with open(file, 'r') as f:\n",
    "            for line in f:\n",
    "                line=line.strip()\n",
    "                line=line.split(',')\n",
    "                if line[0].isdigit():\n",
    "                    line = map(int, line)\n",
    "                    line[1]=line[1]-1\n",
    "                    contents.append(line[2])\n",
    "        subjects.append(contents)"
   ]
  },
  {
   "cell_type": "code",
   "execution_count": 11,
   "metadata": {},
   "outputs": [
    {
     "name": "stdout",
     "output_type": "stream",
     "text": [
      "0.7345655054684199\n",
      "0.7972243400021805\n",
      "0.7660721524151656\n",
      "0.7841910840985333\n",
      "0.3587617949143525\n",
      "0.23479999549352967\n",
      "0.31950807645927254\n",
      "0.4817942864181687\n",
      "0.2717390567874341\n",
      "0.18765196015745167\n",
      "The mean R value is:  0.49363082522145074\n"
     ]
    }
   ],
   "source": [
    "zscores = list()\n",
    "for s in subjects:\n",
    "    z=stats.zscore(s)\n",
    "    zscores.append(z.tolist())\n",
    "\n",
    "for z in zscores:\n",
    "    temp = list(zscores)\n",
    "    temp.remove(z)\n",
    "    r=np.corrcoef(z, np.mean(temp,axis=0))[1][0]\n",
    "    print r\n",
    "    r_values.append(r)\n",
    "\n",
    "print 'The mean R value is: ', np.mean(r_values)"
   ]
  },
  {
   "cell_type": "code",
   "execution_count": null,
   "metadata": {},
   "outputs": [],
   "source": []
  }
 ],
 "metadata": {
  "kernelspec": {
   "display_name": "Python 2",
   "language": "python",
   "name": "python2"
  },
  "language_info": {
   "codemirror_mode": {
    "name": "ipython",
    "version": 2
   },
   "file_extension": ".py",
   "mimetype": "text/x-python",
   "name": "python",
   "nbconvert_exporter": "python",
   "pygments_lexer": "ipython2",
   "version": "2.7.16"
  }
 },
 "nbformat": 4,
 "nbformat_minor": 2
}
