{
 "cells": [
  {
   "cell_type": "code",
   "execution_count": 1,
   "metadata": {},
   "outputs": [],
   "source": [
    "import os\n",
    "import matplotlib.pyplot as plt\n",
    "import numpy as np\n",
    "import random"
   ]
  },
  {
   "cell_type": "code",
   "execution_count": 2,
   "metadata": {},
   "outputs": [],
   "source": [
    "#get the subj data\n",
    "subjs = list()\n",
    "for file in os.listdir(os.getcwd()):\n",
    "    if len(file) == 20:\n",
    "        file_contents = list()\n",
    "        with open(file,'r') as f:\n",
    "            for line in f:\n",
    "                line = line.strip()\n",
    "                line = line.split(',')\n",
    "                file_contents.append(line)\n",
    "        subjs.append(file_contents)"
   ]
  },
  {
   "cell_type": "code",
   "execution_count": 3,
   "metadata": {},
   "outputs": [],
   "source": [
    "M_total = list()\n",
    "P_total = list()\n",
    "N_total = list()\n",
    "A_total = list()\n",
    "individs = list()\n",
    "# calculate the ranking\n",
    "for subj in subjs:\n",
    "    avgs = [0,0,0,0]\n",
    "    M = 0\n",
    "    N = 0\n",
    "    P = 0\n",
    "    A = 0\n",
    "    for q in subj:  \n",
    "        if q[0].isdigit():\n",
    "            q = map(int, q)\n",
    "            if q[1] == 2:\n",
    "                M+=q[2]\n",
    "                M_total.append(q[2])\n",
    "                \n",
    "            elif q[1] == 3:\n",
    "                N+=q[2]\n",
    "                N_total.append(q[2])\n",
    "            elif q[1] == 4:\n",
    "                P+=q[2]\n",
    "                P_total.append(q[2])\n",
    "            elif q[1] == 5:\n",
    "                A+=q[2]\n",
    "                A_total.append(q[2])\n",
    "    avgs[0] = float(N)/8\n",
    "    avgs[1] = float(A)/8\n",
    "    avgs[2] = float(P)/8\n",
    "    avgs[3] = float(M)/8\n",
    "    individs.append(avgs)\n"
   ]
  },
  {
   "cell_type": "code",
   "execution_count": 4,
   "metadata": {},
   "outputs": [],
   "source": [
    "#calculate averages\n",
    "#and standard error of the mean\n",
    "avg = [0,0,0,0]\n",
    "errors = [0,0,0,0]\n",
    "avg[0] = np.mean(N_total)\n",
    "errors[0] = np.std(N_total)/np.sqrt(len(N_total))\n",
    "avg[1] = np.mean(A_total)\n",
    "errors[1] = np.std(A_total)/np.sqrt(len(A_total))\n",
    "avg[2] = np.mean(P_total)\n",
    "errors[2] = np.std(P_total)/np.sqrt(len(P_total))\n",
    "avg[3] = np.mean(M_total)\n",
    "errors[3] = np.std(M_total)/np.sqrt(len(M_total))\n"
   ]
  },
  {
   "cell_type": "code",
   "execution_count": 7,
   "metadata": {},
   "outputs": [
    {
     "data": {
      "image/png": "[encoded data removed]",
      "text/plain": [
       "<Figure size 640x480 with 1 Axes>"
      ]
     },
     "metadata": {},
     "output_type": "display_data"
    }
   ],
   "source": [
    "plt.rcdefaults()\n",
    "fig, ax = plt.subplots()\n",
    "\n",
    "phrase = ('noun change','adj change','prep change', 'meaning preserve')\n",
    "y_pos = np.arange(len(phrase))\n",
    "ax.barh(y_pos, avg, xerr=errors, align='center')\n",
    "ax.set_yticks(y_pos)\n",
    "ax.set_yticklabels(phrase)\n",
    "ax.invert_yaxis()  \n",
    "ax.set_xlabel('Average rank')\n",
    "ax.set_xticks([0,1,2,3,4])\n",
    "\n",
    "#add each individ to the plot\n",
    "for k in individs:\n",
    "    rand = random.uniform(-0.05,0.05)\n",
    "    plt.scatter(k,[0+rand,1+rand,2+rand,3+rand],s=5,zorder=2)\n",
    "    \n",
    "    \n",
    "plt.show()\n"
   ]
  },
  {
   "cell_type": "code",
   "execution_count": null,
   "metadata": {},
   "outputs": [],
   "source": []
  },
  {
   "cell_type": "code",
   "execution_count": null,
   "metadata": {},
   "outputs": [],
   "source": []
  }
 ],
 "metadata": {
  "kernelspec": {
   "display_name": "Python 2",
   "language": "python",
   "name": "python2"
  },
  "language_info": {
   "codemirror_mode": {
    "name": "ipython",
    "version": 2
   },
   "file_extension": ".py",
   "mimetype": "text/x-python",
   "name": "python",
   "nbconvert_exporter": "python",
   "pygments_lexer": "ipython2",
   "version": "2.7.16"
  }
 },
 "nbformat": 4,
 "nbformat_minor": 2
}
