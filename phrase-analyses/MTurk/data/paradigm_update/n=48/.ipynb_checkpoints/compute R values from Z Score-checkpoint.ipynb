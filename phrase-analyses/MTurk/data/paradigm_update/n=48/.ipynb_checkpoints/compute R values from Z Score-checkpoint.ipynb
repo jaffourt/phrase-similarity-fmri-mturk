{
 "cells": [
  {
   "cell_type": "code",
   "execution_count": 1,
   "metadata": {},
   "outputs": [],
   "source": [
    "import os\n",
    "import numpy as np\n",
    "import copy"
   ]
  },
  {
   "cell_type": "code",
   "execution_count": 2,
   "metadata": {},
   "outputs": [],
   "source": [
    "subjects = dict()\n",
    "for file in os.listdir(os.getcwd()):\n",
    "    contents = list()\n",
    "    if len(file)==20:\n",
    "        with open(file, 'r') as f:\n",
    "            for line in f:\n",
    "                line=line.strip()\n",
    "                line=line.split(',')\n",
    "                if line[0].isdigit():\n",
    "                    line = map(int, line)\n",
    "                    line[1]=line[1]-1\n",
    "                    contents.append(line[1:3])\n",
    "        subjects[len(subjects)+1]=contents"
   ]
  },
  {
   "cell_type": "code",
   "execution_count": 3,
   "metadata": {},
   "outputs": [],
   "source": [
    "averages = dict()\n",
    "for i in range(1,33):\n",
    "    for j in range(1,5):\n",
    "        averages[\"base\"+str(i)+\"_transform\"+str(j)] = list()"
   ]
  },
  {
   "cell_type": "code",
   "execution_count": 4,
   "metadata": {},
   "outputs": [
    {
     "name": "stdout",
     "output_type": "stream",
     "text": [
      "0.7484315423866592\n",
      "0.838072336413003\n",
      "0.20356980573186928\n",
      "0.2882058294715831\n",
      "0.6771041285852362\n",
      "0.7164161159467911\n",
      "-0.46489898354624487\n",
      "0.5725188290799884\n",
      "-0.025123475020593762\n",
      "0.7415865419310772\n",
      "0.32963858874698515\n",
      "0.6440869140037632\n",
      "0.3503656364568234\n",
      "0.7826380946986249\n",
      "0.1626564311948935\n",
      "0.18383541310616622\n",
      "0.24904366048751453\n",
      "0.8796919011862108\n",
      "0.7141258008244298\n",
      "0.5723200426779258\n",
      "0.7300797984933052\n",
      "0.5811773007116361\n",
      "0.6287235166157319\n",
      "0.5908705821937743\n",
      "0.6158605604923761\n",
      "0.8034267599069249\n",
      "0.06344309669494633\n",
      "0.20784901097441197\n",
      "0.21316270808659887\n",
      "0.2865924710068068\n",
      "0.13763568161663792\n",
      "0.5244767802409369\n",
      "-0.08092360371741153\n",
      "-0.18057021398402867\n",
      "0.5094847043096211\n",
      "0.7570482346091318\n",
      "0.6110315259233072\n",
      "0.25585763019387053\n",
      "0.8407424477130753\n",
      "0.04823550108010267\n",
      "-0.16516565993741186\n",
      "0.6865839402649235\n",
      "-0.6597308637297387\n",
      "0.19312239063217287\n",
      "0.2975025061308487\n",
      "-0.44869725173771463\n",
      "0.6251430019008298\n"
     ]
    }
   ],
   "source": [
    "R_values = list()\n",
    "for i in range(1,len(subjects)+1):\n",
    "    temp = dict(subjects)\n",
    "    subject = subjects[i]\n",
    "    temp_average = averages\n",
    "    temp_average = copy.deepcopy(averages)\n",
    "    del temp[i]\n",
    "    for uid in temp:\n",
    "        base = 0\n",
    "        for vals in subjects[uid]:\n",
    "            base = base + 1;\n",
    "            (temp_average[\"base\"+str(base)+\"_transform\"+str(vals[0])]).append(vals[1])\n",
    "    #average this beautiful set\n",
    "    for keys in temp_average:\n",
    "        temp_average[keys] = np.mean(temp_average[keys])\n",
    "    #now structure the subject the same way\n",
    "    subj_dict = dict()\n",
    "    base = 0\n",
    "    for pair in subject:\n",
    "        base = base + 1\n",
    "        subj_dict[\"base\"+str(base)+\"_transform\"+str(pair[0])] = pair[1]\n",
    "    # now find where the subj intersects with the averages \n",
    "    #(they only saw a subset of the base/transformation pairs!)\n",
    "    # and compute a correlation coefficient\n",
    "    averages_set = set(temp_average)\n",
    "    subj_set = set(subj_dict)\n",
    "    keys = list()\n",
    "    for key in averages_set.intersection(subj_set):\n",
    "        #each key corresponds to the intersection remainder\n",
    "        keys.append(key)\n",
    "    avg_vect = [temp_average[x] for x in keys]\n",
    "    subj_vect = [subj_dict[x] for x in keys]\n",
    "    #potentially incorrect R_values, use z-scores instead!\n",
    "    bleh=np.corrcoef(x=subj_vect, y=avg_vect)\n",
    "    R_values.append(bleh[0][1])"
   ]
  },
  {
   "cell_type": "code",
   "execution_count": 7,
   "metadata": {},
   "outputs": [
    {
     "name": "stdout",
     "output_type": "stream",
     "text": [
      "0.37951590874571006\n"
     ]
    }
   ],
   "source": [
    "print np.mean(R_values)"
   ]
  },
  {
   "cell_type": "code",
   "execution_count": null,
   "metadata": {},
   "outputs": [],
   "source": []
  }
 ],
 "metadata": {
  "kernelspec": {
   "display_name": "Python 2",
   "language": "python",
   "name": "python2"
  },
  "language_info": {
   "codemirror_mode": {
    "name": "ipython",
    "version": 2
   },
   "file_extension": ".py",
   "mimetype": "text/x-python",
   "name": "python",
   "nbconvert_exporter": "python",
   "pygments_lexer": "ipython2",
   "version": "2.7.16"
  }
 },
 "nbformat": 4,
 "nbformat_minor": 2
}
